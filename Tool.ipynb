{
 "cells": [
  {
   "cell_type": "markdown",
   "metadata": {},
   "source": [
    "# Selection Tool for Hydrographic Equipment"
   ]
  },
  {
   "cell_type": "markdown",
   "metadata": {},
   "source": [
    "Author: Freya Wittkugel, 05.11.2021\n",
    "\n",
    "This tool will select suitable hydrographic sensors from an excel-file. \n",
    "The tool is valid for MBES, SBES, SBP and SSS. \n",
    "The information is up to date as stated in the xls-file. \n",
    "\n",
    "Run the tool by continuously pressing the play button. The blue line shows which cell is active. Please reset the variables after each run. Restart at section \"Reset Variables\". \n",
    "\n",
    "Run until section \"User Input\" and provide information as asked. \n"
   ]
  },
  {
   "cell_type": "markdown",
   "metadata": {},
   "source": [
    "## Reset Variables"
   ]
  },
  {
   "cell_type": "code",
   "execution_count": 1,
   "metadata": {
    "colab": {
     "base_uri": "https://localhost:8080/"
    },
    "id": "_ixx0EtInA-f",
    "outputId": "222d0cca-8df9-4b69-9442-feb3d1eb5022",
    "scrolled": true
   },
   "outputs": [
    {
     "name": "stdin",
     "output_type": "stream",
     "text": [
      "Once deleted, variables cannot be recovered. Proceed (y/[n])?  y\n"
     ]
    }
   ],
   "source": [
    "%reset"
   ]
  },
  {
   "cell_type": "markdown",
   "metadata": {
    "id": "uTmm2dPD6Pd3"
   },
   "source": [
    "## Import"
   ]
  },
  {
   "cell_type": "code",
   "execution_count": 2,
   "metadata": {
    "id": "HSQsWjCO6OL2"
   },
   "outputs": [],
   "source": [
    "from __future__ import print_function\n",
    "import numpy as np\n",
    "import pandas as pd\n",
    "from math import sqrt, pow\n",
    "from ipywidgets import interact, interactive, fixed, interact_manual, FileUpload\n",
    "import ipywidgets as widgets\n",
    "from IPython.display import display\n",
    "import io\n",
    "\n",
    "from IPython.core.interactiveshell import InteractiveShell\n",
    "InteractiveShell.ast_node_interactivity = \"all\""
   ]
  },
  {
   "cell_type": "markdown",
   "metadata": {
    "id": "azRoilQofNAC"
   },
   "source": [
    "## Functions for Selection by Survey Scenario"
   ]
  },
  {
   "cell_type": "markdown",
   "metadata": {
    "id": "xNZpmiIVgGyx"
   },
   "source": [
    "### MBES: mbes_scenario(depth), return df\n"
   ]
  },
  {
   "cell_type": "code",
   "execution_count": 3,
   "metadata": {
    "id": "ZeUkIaMkNZuk"
   },
   "outputs": [],
   "source": [
    "def mbes_scenario(depth):\n",
    "    # parse applicable excel sheet\n",
    "    for sheet_name in xls.sheet_names:\n",
    "        if sheet_name == 'MBES':\n",
    "            df= xls.parse(sheet_name, skiprows = head)\n",
    "    \n",
    "    #NaN values are replaced by 0\n",
    "    df = df.replace(np.nan, 0)\n",
    "    \n",
    "    # The sensor should be able to measure 10 percent more than maximum survey depth \n",
    "    bedingung1 = ((df.max_depth-df.max_depth*0.1) >= depth[1]) \n",
    "    # draught is considered for minimum survey depth = transducer draught + 10% Spielraum. \n",
    "    bedingung2 = (df.min_depth+ship_draught) <= depth[0]  \n",
    "    \n",
    "    # apply to df\n",
    "    df = df[bedingung1 & bedingung2]\n",
    "\n",
    "    return df"
   ]
  },
  {
   "cell_type": "markdown",
   "metadata": {
    "id": "TqNN9aXIncxf"
   },
   "source": [
    "### SBES: sbes_scenario(depth), return df"
   ]
  },
  {
   "cell_type": "code",
   "execution_count": 4,
   "metadata": {
    "id": "uMrtGqd2n0Sv"
   },
   "outputs": [],
   "source": [
    "def sbes_scenario(depth):\n",
    "    \n",
    "    # parse applicable excel sheet\n",
    "    for sheet_name in xls.sheet_names:\n",
    "        if sheet_name == 'SBES': \n",
    "            df= xls.parse(sheet_name, skiprows = head)\n",
    "    \n",
    "    #NaN values are replaced by 0\n",
    "    df = df.replace(np.nan, 0)\n",
    "    \n",
    "    # The sensor should be able to measure 10 percent more than maximum survey depth \n",
    "    bedingung1 = ((df.max_depth-df.max_depth*0.1) >= depth[1]) \n",
    "    # draught is considered for minimum survey depth = transducer draught + 10% Spielraum. \n",
    "    bedingung2 = (df.min_depth+ship_draught) <= depth[0]  \n",
    "    \n",
    "    # apply to df\n",
    "    df = df[bedingung1 & bedingung2]\n",
    "    \n",
    "    return df"
   ]
  },
  {
   "cell_type": "markdown",
   "metadata": {
    "id": "CaW81GZpfcyS"
   },
   "source": [
    "### SBP: sbp_scenario(depth), return df"
   ]
  },
  {
   "cell_type": "code",
   "execution_count": 5,
   "metadata": {
    "id": "c28uiHsWfn_p"
   },
   "outputs": [],
   "source": [
    "def sbp_scenario(depth):\n",
    "    \n",
    "    # parse applicable excel sheet\n",
    "    for sheet_name in xls.sheet_names:\n",
    "        if sheet_name == 'SBP': \n",
    "            df= xls.parse(sheet_name, skiprows = head)\n",
    "    \n",
    "    #NaN values are replaced by 0\n",
    "    df = df.replace(np.nan, 0)\n",
    "    \n",
    "    # The sensor should be able to measure 10 percent more than maximum survey depth \n",
    "    bedingung1 = ((df.max_depth-df.max_depth*0.1) >= depth[1]) \n",
    "    # Um klar vom nearfield zu sein, werden Tiefgang und mounting berücksichtigt = transducer draught + 10% Spielraum.\n",
    "    bedingung2 = (df.min_depth+ship_draught) <= depth[0]  \n",
    "    \n",
    "    # apply to df\n",
    "    df = df[bedingung1 & bedingung2]\n",
    "\n",
    "    return df"
   ]
  },
  {
   "cell_type": "markdown",
   "metadata": {
    "id": "nrNtpBLgpp8k"
   },
   "source": [
    "### SSS: sss_scenario(depth), return df"
   ]
  },
  {
   "cell_type": "code",
   "execution_count": 6,
   "metadata": {
    "id": "TvHf4WfBq40a"
   },
   "outputs": [],
   "source": [
    "def sss_scenario(depth):\n",
    "    \n",
    "    # parse applicable excel sheet\n",
    "    for sheet_name in xls.sheet_names:\n",
    "        if sheet_name == 'SSS': \n",
    "            df= xls.parse(sheet_name, skiprows = head)\n",
    "    \n",
    "    #NaN values are replaced by 0\n",
    "    df = df.replace(np.nan, 0)\n",
    "    \n",
    "    tow_height = 0.15*df.swath_width\n",
    "    # depth_rating\n",
    "    bedingung3 = (depth[1]-tow_height) < df.depth_rating\n",
    "    \n",
    "    # Maske mit Bedingungen auf df anwenden\n",
    "    df = df[bedingung3]\n",
    "    #print('bedingung1 erfüllt: ',bedingung1)\n",
    "    #print('bedingung2 erfüllt: ', bedingung2)\n",
    "    \n",
    "    return df"
   ]
  },
  {
   "cell_type": "markdown",
   "metadata": {
    "id": "5oN5R-MBf0hT"
   },
   "source": [
    "## Step 2: Functions for Selection by Space Restrictions"
   ]
  },
  {
   "cell_type": "markdown",
   "metadata": {
    "id": "Krt6sytXyxTv"
   },
   "source": [
    "### MBES: mbes_space(space_limits), return df"
   ]
  },
  {
   "cell_type": "code",
   "execution_count": 7,
   "metadata": {
    "id": "d4Afm5BBuvLs"
   },
   "outputs": [],
   "source": [
    "# df from first step, space limits from user input\n",
    "def mbes_space(space_limits, df):\n",
    "    length = space_limits[1]\n",
    "    width = space_limits[0]\n",
    "    weight = space_limits[2]\n",
    "    \n",
    "    # remember: sensor without dimension values are set to 0. They will be selected!\n",
    "    # the transmitting array is arranged along the keel, so its length plus the rx perpendicular width is the limit\n",
    "    bedingung1 = (df.tx_length+df.rx_width) <= length \n",
    "    # the receiving array is arranged perpendicular to the transmitting array (mills cross config) so its width is the limit\n",
    "    bedingung2 = (df.rx_length) <= width\n",
    "    # the weight for the whole transducer setup (tx+rx) shall not exceed the specification\n",
    "    #bedingung3 = (df.tx_weight+df.rx_weight) <= weight \n",
    "\n",
    "    # apply to df\n",
    "    #df = df[bedingung1 & bedingung2 & bedingung3]\n",
    "    df = df[bedingung1 & bedingung2]\n",
    "    #print('bedingung1 erfüllt: ',bedingung1)\n",
    "    #print('bedingung2 erfüllt: ', bedingung2)\n",
    "    #print('bedingung3 erfüllt: ', bedingung3)\n",
    "    return df"
   ]
  },
  {
   "cell_type": "markdown",
   "metadata": {
    "id": "sY9ndqlLYvmy"
   },
   "source": [
    "### SBES: sbes_space(space_limits), return df"
   ]
  },
  {
   "cell_type": "code",
   "execution_count": 8,
   "metadata": {
    "id": "WoCRigPTZCSC"
   },
   "outputs": [],
   "source": [
    "def sbes_space(space_limits,df):\n",
    "    length = space_limits[1]\n",
    "    width = space_limits[0]\n",
    "    weight = space_limits[2]\n",
    "    \n",
    "    # parse applicable excel sheet\n",
    "    for sheet_name in xls.sheet_names:\n",
    "        if sheet_name == 'SBES':\n",
    "            df= xls.parse(sheet_name, skiprows = head)\n",
    "            \n",
    "    bedingung1 = (df.tx_length) <= length\n",
    "    bedingung2 = (df.tx_width) <= width\n",
    "    bedingung3 = (df.tx_weight) <= weight\n",
    "    \n",
    "    # apply to df\n",
    "    df = df[bedingung1 & bedingung2 & bedingung3]\n",
    "    \n",
    "    return df"
   ]
  },
  {
   "cell_type": "markdown",
   "metadata": {
    "id": "HIq-qfdEZ_FC"
   },
   "source": [
    "### SBP: sbp_space(space_limits), return df"
   ]
  },
  {
   "cell_type": "code",
   "execution_count": 9,
   "metadata": {
    "id": "oAFvBM3EaIJp"
   },
   "outputs": [],
   "source": [
    "def sbp_space(space_limits,df):\n",
    "    length = space_limits[1]\n",
    "    width = space_limits[0]\n",
    "    weight = space_limits[2]\n",
    "    \n",
    "    # parse applicable excel sheet\n",
    "    for sheet_name in xls.sheet_names:\n",
    "        if sheet_name == 'SBP':\n",
    "            df= xls.parse(sheet_name, skiprows = head)\n",
    "            \n",
    "    bedingung1 = (df.tx_length) <= length\n",
    "    bedingung2 = (df.tx_width) <= width\n",
    "    bedingung3 = (df.tx_weight) <= weight\n",
    "    \n",
    "    # apply to df\n",
    "    df = df[bedingung1 & bedingung2 & bedingung3]\n",
    "    \n",
    "    return df"
   ]
  },
  {
   "cell_type": "markdown",
   "metadata": {
    "id": "VF4ZKTTaac3V"
   },
   "source": [
    "### SSS: sss_space(space_limits), return df"
   ]
  },
  {
   "cell_type": "code",
   "execution_count": 10,
   "metadata": {
    "id": "Mmc9CAXhajIZ"
   },
   "outputs": [],
   "source": [
    "def sss_space(space_limits,df):\n",
    "    length = space_limits[1]\n",
    "    width = space_limits[0]\n",
    "    weight = space_limits[2]\n",
    "    \n",
    "    # parse applicable excel sheet\n",
    "    for sheet_name in xls.sheet_names:\n",
    "        if sheet_name == 'SSS': \n",
    "            df= xls.parse(sheet_name, skiprows = head)\n",
    "            \n",
    "    bedingung1 = (df.tx_length) <= length\n",
    "    bedingung2 = (df.tx_width) <= width\n",
    "    bedingung3 = (df.tx_weight) <= weight\n",
    "    # nur fest installierte Geräte\n",
    "    bedingung4 = (df.pole == 'no') & (df.towfish == 'no')\n",
    "    df = df[bedingung1 & bedingung2 & bedingung3 & bedingung4]\n",
    "    \n",
    "    return df"
   ]
  },
  {
   "cell_type": "markdown",
   "metadata": {},
   "source": [
    "## Widgets"
   ]
  },
  {
   "cell_type": "code",
   "execution_count": 11,
   "metadata": {},
   "outputs": [],
   "source": [
    "# upload button\n",
    "upload = FileUpload(accept= '.xlsx', multiple = False)\n",
    "\n",
    "# widget for input of survey scenarios\n",
    "scenario_select = widgets.SelectMultiple(\n",
    "    options=['Bathymetric Survey', 'Seafloor Classification', 'Oceanographic Survey', 'Geophysical Survey'],\n",
    "    value=[],\n",
    "    rows=5,\n",
    "    description='Purpose',\n",
    "    disabled=False\n",
    ")\n",
    "\n",
    "# widget for input of desired survey depth\n",
    "depth_range_slider = widgets.IntRangeSlider(\n",
    "    value=[100,2000],\n",
    "    min=0.2,\n",
    "    max=11000,\n",
    "    step=10,\n",
    "    description='Survey Depths:',\n",
    "    disabled=False,\n",
    "    continuous_update=False,\n",
    "    orientation='horizontal',\n",
    "    readout=True,\n",
    "    readout_format='d',\n",
    "    layout={'width': '990px'}\n",
    ")\n",
    "\n"
   ]
  },
  {
   "cell_type": "markdown",
   "metadata": {
    "id": "wIx12ndms5JP"
   },
   "source": [
    "## User Input"
   ]
  },
  {
   "cell_type": "markdown",
   "metadata": {},
   "source": [
    "Enter your information here. \n",
    "\n",
    "- Upload the excel-file with information about sensors by clicking the upload button.\n",
    "\n",
    "- Select the scenario(s) you want recommendations for. Multiple scenarios can be selected by holding strg. \n",
    "\n",
    "- Select the depth range of the survey area. Then click next cell. \n",
    "\n",
    "- Enter draught and dimensions available on the keel plate. \n",
    "\n",
    "Proceed with runnung the cells. "
   ]
  },
  {
   "cell_type": "code",
   "execution_count": 14,
   "metadata": {
    "colab": {
     "base_uri": "https://localhost:8080/",
     "height": 49,
     "referenced_widgets": [
      "4210597a78f9422d8ed66687f77e70c2",
      "f67a3f71ab99433fa38d17bc1f428b4b",
      "ae385610f844466a9ff375d414915ae0"
     ]
    },
    "id": "MOENUuw7uMQh",
    "outputId": "67e5f50e-8600-4047-b380-589616c6f367"
   },
   "outputs": [
    {
     "data": {
      "application/vnd.jupyter.widget-view+json": {
       "model_id": "0ce0c71aa38a4e71a327c726365ec018",
       "version_major": 2,
       "version_minor": 0
      },
      "text/plain": [
       "VBox(children=(FileUpload(value={}, accept='.xlsx', description='Upload'), SelectMultiple(description='Purpose…"
      ]
     },
     "metadata": {},
     "output_type": "display_data"
    }
   ],
   "source": [
    "box = widgets.VBox([upload, scenario_select, depth_range_slider])\n",
    "display(box)"
   ]
  },
  {
   "cell_type": "code",
   "execution_count": 15,
   "metadata": {},
   "outputs": [],
   "source": [
    "# ship_draught refers to depth of transducer surface\n",
    "ship_draught = 3.71\n",
    "# for the second step: maximum space available in mm, kg\n",
    "keel_width = 1200\n",
    "keel_length = 9000\n",
    "weight_limit = 10000\n",
    "space_limits = [keel_width, keel_length, weight_limit]"
   ]
  },
  {
   "cell_type": "markdown",
   "metadata": {},
   "source": [
    "#### end of input"
   ]
  },
  {
   "cell_type": "code",
   "execution_count": 16,
   "metadata": {
    "colab": {
     "base_uri": "https://localhost:8080/"
    },
    "id": "hRpSzEhOuW8f",
    "outputId": "9303406e-bf9e-443b-f83a-5aaa5bf5a486"
   },
   "outputs": [
    {
     "data": {
      "text/plain": [
       "27115"
      ]
     },
     "execution_count": 16,
     "metadata": {},
     "output_type": "execute_result"
    }
   ],
   "source": [
    "# read excel file\n",
    "with open('Sensors_DataExcel.xlsx', 'wb') as output_file:\n",
    "    for uploaded_filename in upload.value:\n",
    "        content = upload.value[uploaded_filename]['content']\n",
    "        output_file.write(content)\n",
    "\n",
    "filename = 'Sensors.xlsx'\n",
    "head = 4\n",
    "xls = pd.ExcelFile(content)\n",
    "\n",
    "# getting chosen scenario values\n",
    "selected = scenario_select.value  \n",
    "survey_scenario = []\n",
    "\n",
    "for i in selected:\n",
    "    survey_scenario.append(i)\n",
    "    \n",
    "# get values from slider\n",
    "survey_depth = [depth_range_slider.value[0],depth_range_slider.value[1]]"
   ]
  },
  {
   "cell_type": "markdown",
   "metadata": {
    "id": "bmCAC2J6gsPS"
   },
   "source": [
    "# Select Sensors by Survey Scenario"
   ]
  },
  {
   "cell_type": "markdown",
   "metadata": {},
   "source": [
    "To receive recommended sensor models for the selected survey scenario please run the following sections. "
   ]
  },
  {
   "cell_type": "code",
   "execution_count": 17,
   "metadata": {
    "id": "i6n0NSZEhBPS"
   },
   "outputs": [],
   "source": [
    "depth = [survey_depth]\n",
    "\n",
    "for i in survey_scenario:\n",
    "    if 'Bathymetric Survey' in i:\n",
    "        #print('Instruments for nautical survey: ')\n",
    "        for i in depth:\n",
    "            nautical_mbes = mbes_scenario(i)\n",
    "            nautical_sbes = sbes_scenario(i)\n",
    "            nautical_sbp = sbp_scenario(i)\n",
    "            \n",
    "    if 'Seafloor Classification' in i:\n",
    "        #print('Instruments for seabed investigation: ')\n",
    "        for i in depth:\n",
    "            seabed_mbes = mbes_scenario(i)\n",
    "            seabed_sbp = sbp_scenario(i)\n",
    "            seabed_sss = sss_scenario(i)\n",
    "            \n",
    "    if 'Oceanographic Survey' in i:\n",
    "        #print('Instruments for investigation of the water column: ')\n",
    "        for i in depth:\n",
    "            oceanic_mbes = mbes_scenario(i) # hier noch Auswahlmöglichkeit einbauen, dass nur scientific ausgewählt werden\n",
    "            #print('other not yet defined')\n",
    "            \n",
    "    if 'Geophysical Survey' in i:\n",
    "        #print('Instruments for underground features: ')\n",
    "        for i in depth:\n",
    "            print('')\n",
    "            "
   ]
  },
  {
   "cell_type": "code",
   "execution_count": 18,
   "metadata": {},
   "outputs": [],
   "source": [
    "# prepare lists for next step\n",
    "\n",
    "mbes_sensors = []\n",
    "sbes_sensors = []\n",
    "sbp_sensors = []\n",
    "sss_sensors = []\n",
    "\n",
    "for i in survey_scenario:\n",
    "    if 'Bathymetric Survey' in i:\n",
    "        mbes_sensors.append(nautical_mbes)\n",
    "        sbes_sensors.append(nautical_sbes)\n",
    "        sbp_sensors.append(nautical_sbp)\n",
    "        #sss_sensors.append(nautical_sss)\n",
    "    if 'Seabed Classification' in i:\n",
    "        mbes_sensors.append(seabed_mbes)\n",
    "        #sbes_sensors.append(seabed_sbes)\n",
    "        sbp_sensors.append(seabed_sbp)\n",
    "        sss_sensors.append(seabed_sss)\n",
    "    if 'Oceanographic Survey' in i:\n",
    "        mbes_sensors.append(oceanic_mbes)\n",
    "        #sbes_sensors.append(oceanic_sbes)\n",
    "        #sbp_sensors.append(oceanic_sbp)\n",
    "        #sss_sensors.append(oceanic_sss)\n",
    "    if 'Geophysical Survey' in i:\n",
    "        #mbes_sensors.append(geophysical_mbes)\n",
    "        #sbes_sensors.append(geophysical_sbes)\n",
    "        #sbp_sensors.append(geophysical_sbp)\n",
    "        #sss_sensors.append(geophysical_sss)\n",
    "        pass"
   ]
  },
  {
   "cell_type": "code",
   "execution_count": 19,
   "metadata": {},
   "outputs": [],
   "source": [
    "# concat the double df for mbes/sbes/sbp/sss and drop duplicates, only for not empty lists\n",
    "\n",
    "if not mbes_sensors:\n",
    "    all_mbes = []\n",
    "else:\n",
    "    all_mbes = pd.concat(mbes_sensors).drop_duplicates().reset_index(drop=True)\n",
    "    \n",
    "if not sbes_sensors:\n",
    "    all_sbes = []\n",
    "else:\n",
    "    all_sbes = pd.concat(sbes_sensors).drop_duplicates().reset_index(drop=True)\n",
    "    \n",
    "if not sbp_sensors:\n",
    "    all_sbp = []\n",
    "else:\n",
    "    all_sbp = pd.concat(sbp_sensors).drop_duplicates().reset_index(drop=True)\n",
    "\n",
    "if not sss_sensors:\n",
    "    all_sss = []\n",
    "else:\n",
    "    all_sss = pd.concat(sss_sensors).drop_duplicates().reset_index(drop=True)"
   ]
  },
  {
   "cell_type": "code",
   "execution_count": 20,
   "metadata": {},
   "outputs": [],
   "source": [
    "# OPTIONAL:\n",
    "# cut all instruments that are overachieving (measure more than twice the required maximum depth)\n",
    "all_mbes = all_mbes.drop(all_mbes[(all_mbes.max_depth)> (survey_depth[1])*2].index)\n",
    "sll_sbes = all_sbes.drop(all_sbes[(all_sbes.max_depth)> (survey_depth[1])*2].index)\n",
    "all_sbp = all_sbp.drop(all_sbp[(all_sbp.max_depth)> (survey_depth[1])*2].index)"
   ]
  },
  {
   "cell_type": "markdown",
   "metadata": {
    "id": "QSFiDUiPmRUa"
   },
   "source": [
    "# Select Sensors with Space Restrictions"
   ]
  },
  {
   "cell_type": "markdown",
   "metadata": {},
   "source": [
    "To receive recommended sensor models that respect the given space restrictions please run the following sections. "
   ]
  },
  {
   "cell_type": "code",
   "execution_count": 21,
   "metadata": {
    "id": "5HuqxKzY1kT3"
   },
   "outputs": [],
   "source": [
    "for i in survey_scenario:\n",
    "    if 'Bathymetric Survey' in i:\n",
    "        #print('Instruments for nautical survey: ')\n",
    "        nautical_mbes = mbes_space(space_limits,nautical_mbes)\n",
    "        nautical_sbes = sbes_space(space_limits, nautical_sbes)\n",
    "        nautical_sbp = sbp_space(space_limits, nautical_sbp)\n",
    "        \n",
    "    if 'Seafloor Classification' in i:\n",
    "        #print('Instruments for seabed investigation: ')\n",
    "        seabed_mbes = mbes_space(space_limits, seabed_mbes)\n",
    "        seabed_sbp = sbp_space(space_limits,seabed_sbp)\n",
    "        seabed_sss = sss_space(space_limits, seabed_sss)\n",
    "        \n",
    "    if 'Oceanographic Survey' in i:\n",
    "        #print('Instruments for investigation of the water column: '\n",
    "        oceanic_mbes = mbes_space(space_limits,oceanic_mbes)\n",
    "    \n",
    "    if 'Geophysical Survey' in i:\n",
    "        #print('Instruments for underground features: ')\n",
    "        pass"
   ]
  },
  {
   "cell_type": "code",
   "execution_count": 22,
   "metadata": {},
   "outputs": [],
   "source": [
    "# prepare lists for next step\n",
    "\n",
    "mbes_sensors = []\n",
    "sbes_sensors = []\n",
    "sbp_sensors = []\n",
    "sss_sensors = []\n",
    "\n",
    "for i in survey_scenario:\n",
    "    if 'Bathymetric Survey' in i:\n",
    "        mbes_sensors.append(nautical_mbes)\n",
    "        sbes_sensors.append(nautical_sbes)\n",
    "        sbp_sensors.append(nautical_sbp)\n",
    "        #sss_sensors.append(nautical_sss)\n",
    "    if 'Seafloor Classification' in i:\n",
    "        mbes_sensors.append(seabed_mbes)\n",
    "        #sbes_sensors.append(seabed_sbes)\n",
    "        sbp_sensors.append(seabed_sbp)\n",
    "        sss_sensors.append(seabed_sss)\n",
    "    if 'Oceanographic Survey' in i:\n",
    "        mbes_sensors.append(oceanic_mbes)\n",
    "        #sbes_sensors.append(oceanic_sbes)\n",
    "        #sbp_sensors.append(oceanic_sbp)\n",
    "        #sss_sensors.append(oceanic_sss)\n",
    "    if 'Geophysical Survey' in i:\n",
    "        #mbes_sensors.append(geophysical_mbes)\n",
    "        #sbes_sensors.append(geophysical_sbes)\n",
    "        #sbp_sensors.append(geophysical_sbp)\n",
    "        #sss_sensors.append(geophysical_sss)\n",
    "        pass"
   ]
  },
  {
   "cell_type": "code",
   "execution_count": 23,
   "metadata": {},
   "outputs": [],
   "source": [
    "# concat the double df for mbes/sbes/sbp/sss and drop duplicates, only for not empty lists\n",
    "if not mbes_sensors:\n",
    "    all_mbes = []\n",
    "else:\n",
    "    all_mbes = pd.concat(mbes_sensors).drop_duplicates().reset_index(drop=True)\n",
    "    \n",
    "if not sbes_sensors:\n",
    "    all_sbes = []\n",
    "else:\n",
    "    all_sbes = pd.concat(sbes_sensors).drop_duplicates().reset_index(drop=True)\n",
    "    \n",
    "if not sbp_sensors:\n",
    "    all_sbp = []\n",
    "else:\n",
    "    all_sbp = pd.concat(sbp_sensors).drop_duplicates().reset_index(drop=True)\n",
    "\n",
    "if not sss_sensors:\n",
    "    all_sss = []\n",
    "else:\n",
    "    all_sss = pd.concat(sss_sensors).drop_duplicates().reset_index(drop=True)\n"
   ]
  },
  {
   "cell_type": "code",
   "execution_count": 24,
   "metadata": {
    "colab": {
     "base_uri": "https://localhost:8080/",
     "height": 305
    },
    "id": "M4sAHoGjmZjS",
    "outputId": "1a8a587f-9928-415c-aab8-8a09a622ed75"
   },
   "outputs": [],
   "source": [
    "# concat the double df for mbes/sbes/sbp/sss and drop duplicates\n",
    "all_mbes = pd.concat([nautical_mbes, seabed_mbes, oceanic_mbes]).drop_duplicates().reset_index(drop=True)\n",
    "all_sbes = pd.concat([nautical_sbes]).drop_duplicates().reset_index(drop=True)\n",
    "all_sbp = pd.concat([nautical_sbp, seabed_sbp]).drop_duplicates().reset_index(drop=True)\n",
    "all_sss = pd.concat([seabed_sss]).drop_duplicates().reset_index(drop=True)"
   ]
  },
  {
   "cell_type": "markdown",
   "metadata": {},
   "source": [
    "## Results"
   ]
  },
  {
   "cell_type": "markdown",
   "metadata": {},
   "source": [
    "Please be careful with comparing results. The results may vary depending on if all functions were called. "
   ]
  },
  {
   "cell_type": "markdown",
   "metadata": {},
   "source": [
    "### With the input restrictions, the following MBES models are recommended: "
   ]
  },
  {
   "cell_type": "code",
   "execution_count": 25,
   "metadata": {},
   "outputs": [
    {
     "data": {
      "text/html": [
       "<div>\n",
       "<style scoped>\n",
       "    .dataframe tbody tr th:only-of-type {\n",
       "        vertical-align: middle;\n",
       "    }\n",
       "\n",
       "    .dataframe tbody tr th {\n",
       "        vertical-align: top;\n",
       "    }\n",
       "\n",
       "    .dataframe thead th {\n",
       "        text-align: right;\n",
       "    }\n",
       "</style>\n",
       "<table border=\"1\" class=\"dataframe\">\n",
       "  <thead>\n",
       "    <tr style=\"text-align: right;\">\n",
       "      <th></th>\n",
       "      <th>manufacturer</th>\n",
       "      <th>Model</th>\n",
       "      <th>min_depth</th>\n",
       "      <th>max_depth</th>\n",
       "      <th>freq_range</th>\n",
       "      <th>tx_length</th>\n",
       "      <th>tx_width</th>\n",
       "      <th>tx_height</th>\n",
       "      <th>tx_weight</th>\n",
       "      <th>rx_length</th>\n",
       "      <th>rx_width</th>\n",
       "      <th>rx_height</th>\n",
       "      <th>rx_weight</th>\n",
       "    </tr>\n",
       "  </thead>\n",
       "  <tbody>\n",
       "    <tr>\n",
       "      <th>0</th>\n",
       "      <td>Kongsberg</td>\n",
       "      <td>EM304 0.5x0.5</td>\n",
       "      <td>10.0</td>\n",
       "      <td>8000.0</td>\n",
       "      <td>26-34 kHz</td>\n",
       "      <td>0.0</td>\n",
       "      <td>0.0</td>\n",
       "      <td>0.0</td>\n",
       "      <td>0.0</td>\n",
       "      <td>0.0</td>\n",
       "      <td>0.0</td>\n",
       "      <td>0.0</td>\n",
       "      <td>0.0</td>\n",
       "    </tr>\n",
       "    <tr>\n",
       "      <th>1</th>\n",
       "      <td>Kongsberg</td>\n",
       "      <td>EM304 1x1</td>\n",
       "      <td>10.0</td>\n",
       "      <td>8000.0</td>\n",
       "      <td>26-34 kHz</td>\n",
       "      <td>0.0</td>\n",
       "      <td>0.0</td>\n",
       "      <td>0.0</td>\n",
       "      <td>0.0</td>\n",
       "      <td>0.0</td>\n",
       "      <td>0.0</td>\n",
       "      <td>0.0</td>\n",
       "      <td>0.0</td>\n",
       "    </tr>\n",
       "    <tr>\n",
       "      <th>2</th>\n",
       "      <td>Kongsberg</td>\n",
       "      <td>EM304 2x2</td>\n",
       "      <td>10.0</td>\n",
       "      <td>8000.0</td>\n",
       "      <td>26-34 kHz</td>\n",
       "      <td>0.0</td>\n",
       "      <td>0.0</td>\n",
       "      <td>0.0</td>\n",
       "      <td>0.0</td>\n",
       "      <td>0.0</td>\n",
       "      <td>0.0</td>\n",
       "      <td>0.0</td>\n",
       "      <td>0.0</td>\n",
       "    </tr>\n",
       "    <tr>\n",
       "      <th>3</th>\n",
       "      <td>Kongsberg</td>\n",
       "      <td>EM304 4x4</td>\n",
       "      <td>10.0</td>\n",
       "      <td>8000.0</td>\n",
       "      <td>26-34 kHz</td>\n",
       "      <td>0.0</td>\n",
       "      <td>0.0</td>\n",
       "      <td>0.0</td>\n",
       "      <td>0.0</td>\n",
       "      <td>0.0</td>\n",
       "      <td>0.0</td>\n",
       "      <td>0.0</td>\n",
       "      <td>0.0</td>\n",
       "    </tr>\n",
       "    <tr>\n",
       "      <th>4</th>\n",
       "      <td>Teledyne RESON</td>\n",
       "      <td>HydroSweepDS 1x2</td>\n",
       "      <td>10.0</td>\n",
       "      <td>11000.0</td>\n",
       "      <td>14-16 kHz</td>\n",
       "      <td>5658.0</td>\n",
       "      <td>299.0</td>\n",
       "      <td>155.0</td>\n",
       "      <td>0.0</td>\n",
       "      <td>299.0</td>\n",
       "      <td>2829.0</td>\n",
       "      <td>155.0</td>\n",
       "      <td>0.0</td>\n",
       "    </tr>\n",
       "    <tr>\n",
       "      <th>5</th>\n",
       "      <td>Teledyne RESON</td>\n",
       "      <td>HydroSweepDS 2x2</td>\n",
       "      <td>10.0</td>\n",
       "      <td>11000.0</td>\n",
       "      <td>14-16 kHz</td>\n",
       "      <td>2829.0</td>\n",
       "      <td>299.0</td>\n",
       "      <td>155.0</td>\n",
       "      <td>0.0</td>\n",
       "      <td>299.0</td>\n",
       "      <td>2829.0</td>\n",
       "      <td>155.0</td>\n",
       "      <td>0.0</td>\n",
       "    </tr>\n",
       "    <tr>\n",
       "      <th>6</th>\n",
       "      <td>Teledyne RESON</td>\n",
       "      <td>HydroSweepMD30 1x1</td>\n",
       "      <td>0.0</td>\n",
       "      <td>7000.0</td>\n",
       "      <td>24-30 kHz</td>\n",
       "      <td>2364.0</td>\n",
       "      <td>170.0</td>\n",
       "      <td>127.0</td>\n",
       "      <td>0.0</td>\n",
       "      <td>300.0</td>\n",
       "      <td>3195.0</td>\n",
       "      <td>127.0</td>\n",
       "      <td>0.0</td>\n",
       "    </tr>\n",
       "    <tr>\n",
       "      <th>7</th>\n",
       "      <td>Teledyne RESON</td>\n",
       "      <td>HydroSweepMD30 1x1.5</td>\n",
       "      <td>0.0</td>\n",
       "      <td>7000.0</td>\n",
       "      <td>24-30 kHz</td>\n",
       "      <td>2364.0</td>\n",
       "      <td>170.0</td>\n",
       "      <td>127.0</td>\n",
       "      <td>0.0</td>\n",
       "      <td>300.0</td>\n",
       "      <td>2170.0</td>\n",
       "      <td>127.0</td>\n",
       "      <td>0.0</td>\n",
       "    </tr>\n",
       "  </tbody>\n",
       "</table>\n",
       "</div>"
      ],
      "text/plain": [
       "     manufacturer                 Model  min_depth  max_depth freq_range  \\\n",
       "0       Kongsberg         EM304 0.5x0.5       10.0     8000.0  26-34 kHz   \n",
       "1       Kongsberg             EM304 1x1       10.0     8000.0  26-34 kHz   \n",
       "2       Kongsberg             EM304 2x2       10.0     8000.0  26-34 kHz   \n",
       "3       Kongsberg             EM304 4x4       10.0     8000.0  26-34 kHz   \n",
       "4  Teledyne RESON      HydroSweepDS 1x2       10.0    11000.0  14-16 kHz   \n",
       "5  Teledyne RESON      HydroSweepDS 2x2       10.0    11000.0  14-16 kHz   \n",
       "6  Teledyne RESON    HydroSweepMD30 1x1        0.0     7000.0  24-30 kHz   \n",
       "7  Teledyne RESON  HydroSweepMD30 1x1.5        0.0     7000.0  24-30 kHz   \n",
       "\n",
       "   tx_length  tx_width  tx_height  tx_weight  rx_length  rx_width  rx_height  \\\n",
       "0        0.0       0.0        0.0        0.0        0.0       0.0        0.0   \n",
       "1        0.0       0.0        0.0        0.0        0.0       0.0        0.0   \n",
       "2        0.0       0.0        0.0        0.0        0.0       0.0        0.0   \n",
       "3        0.0       0.0        0.0        0.0        0.0       0.0        0.0   \n",
       "4     5658.0     299.0      155.0        0.0      299.0    2829.0      155.0   \n",
       "5     2829.0     299.0      155.0        0.0      299.0    2829.0      155.0   \n",
       "6     2364.0     170.0      127.0        0.0      300.0    3195.0      127.0   \n",
       "7     2364.0     170.0      127.0        0.0      300.0    2170.0      127.0   \n",
       "\n",
       "   rx_weight  \n",
       "0        0.0  \n",
       "1        0.0  \n",
       "2        0.0  \n",
       "3        0.0  \n",
       "4        0.0  \n",
       "5        0.0  \n",
       "6        0.0  \n",
       "7        0.0  "
      ]
     },
     "execution_count": 25,
     "metadata": {},
     "output_type": "execute_result"
    }
   ],
   "source": [
    "all_mbes[['manufacturer','Model','min_depth','max_depth','freq_range','tx_length', 'tx_width','tx_height', 'tx_weight', 'rx_length', 'rx_width','rx_height','rx_weight']]"
   ]
  },
  {
   "cell_type": "markdown",
   "metadata": {},
   "source": [
    "### With the input restrictions, the following SBES models are recommended: "
   ]
  },
  {
   "cell_type": "code",
   "execution_count": 26,
   "metadata": {},
   "outputs": [
    {
     "data": {
      "text/html": [
       "<div>\n",
       "<style scoped>\n",
       "    .dataframe tbody tr th:only-of-type {\n",
       "        vertical-align: middle;\n",
       "    }\n",
       "\n",
       "    .dataframe tbody tr th {\n",
       "        vertical-align: top;\n",
       "    }\n",
       "\n",
       "    .dataframe thead th {\n",
       "        text-align: right;\n",
       "    }\n",
       "</style>\n",
       "<table border=\"1\" class=\"dataframe\">\n",
       "  <thead>\n",
       "    <tr style=\"text-align: right;\">\n",
       "      <th></th>\n",
       "      <th>manufacturer</th>\n",
       "      <th>Model</th>\n",
       "      <th>min_depth</th>\n",
       "      <th>max_depth</th>\n",
       "      <th>freq_range</th>\n",
       "      <th>tx_length</th>\n",
       "      <th>tx_width</th>\n",
       "      <th>tx_height</th>\n",
       "      <th>tx_weight</th>\n",
       "    </tr>\n",
       "  </thead>\n",
       "  <tbody>\n",
       "    <tr>\n",
       "      <th>0</th>\n",
       "      <td>Kongsberg</td>\n",
       "      <td>EA640</td>\n",
       "      <td>1.0</td>\n",
       "      <td>12500.0</td>\n",
       "      <td>12-500 kHz</td>\n",
       "      <td>213.0</td>\n",
       "      <td>438.0</td>\n",
       "      <td>84.0</td>\n",
       "      <td>5.0</td>\n",
       "    </tr>\n",
       "  </tbody>\n",
       "</table>\n",
       "</div>"
      ],
      "text/plain": [
       "  manufacturer  Model  min_depth  max_depth  freq_range  tx_length  tx_width  \\\n",
       "0    Kongsberg  EA640        1.0    12500.0  12-500 kHz      213.0     438.0   \n",
       "\n",
       "   tx_height  tx_weight  \n",
       "0       84.0        5.0  "
      ]
     },
     "execution_count": 26,
     "metadata": {},
     "output_type": "execute_result"
    }
   ],
   "source": [
    "all_sbes[['manufacturer','Model','min_depth','max_depth','freq_range','tx_length', 'tx_width','tx_height', 'tx_weight']]"
   ]
  },
  {
   "cell_type": "markdown",
   "metadata": {},
   "source": [
    "### With the input restrictions, the following SBP models are recommended: "
   ]
  },
  {
   "cell_type": "code",
   "execution_count": 27,
   "metadata": {},
   "outputs": [
    {
     "data": {
      "text/html": [
       "<div>\n",
       "<style scoped>\n",
       "    .dataframe tbody tr th:only-of-type {\n",
       "        vertical-align: middle;\n",
       "    }\n",
       "\n",
       "    .dataframe tbody tr th {\n",
       "        vertical-align: top;\n",
       "    }\n",
       "\n",
       "    .dataframe thead th {\n",
       "        text-align: right;\n",
       "    }\n",
       "</style>\n",
       "<table border=\"1\" class=\"dataframe\">\n",
       "  <thead>\n",
       "    <tr style=\"text-align: right;\">\n",
       "      <th></th>\n",
       "      <th>manufacturer</th>\n",
       "      <th>Model</th>\n",
       "      <th>min_depth</th>\n",
       "      <th>max_depth</th>\n",
       "      <th>freq_range</th>\n",
       "      <th>penetration_depth</th>\n",
       "      <th>freq_range_sec</th>\n",
       "      <th>tx_length</th>\n",
       "      <th>tx_width</th>\n",
       "      <th>tx_height</th>\n",
       "      <th>tx_weight</th>\n",
       "      <th>parametric</th>\n",
       "    </tr>\n",
       "  </thead>\n",
       "  <tbody>\n",
       "    <tr>\n",
       "      <th>0</th>\n",
       "      <td>Innomar</td>\n",
       "      <td>deep-36</td>\n",
       "      <td>5.0</td>\n",
       "      <td>6000</td>\n",
       "      <td>30-42 kHz</td>\n",
       "      <td>150.0</td>\n",
       "      <td>2-7 kHz</td>\n",
       "      <td>900.0</td>\n",
       "      <td>900.0</td>\n",
       "      <td>300.0</td>\n",
       "      <td>335.0</td>\n",
       "      <td>yes</td>\n",
       "    </tr>\n",
       "    <tr>\n",
       "      <th>1</th>\n",
       "      <td>Innomar</td>\n",
       "      <td>standard</td>\n",
       "      <td>0.5</td>\n",
       "      <td>500</td>\n",
       "      <td>85-115 kHz</td>\n",
       "      <td>50.0</td>\n",
       "      <td>4-15 kHz</td>\n",
       "      <td>260.0</td>\n",
       "      <td>520.0</td>\n",
       "      <td>340.0</td>\n",
       "      <td>30.0</td>\n",
       "      <td>yes</td>\n",
       "    </tr>\n",
       "    <tr>\n",
       "      <th>2</th>\n",
       "      <td>iXblue</td>\n",
       "      <td>Echoes3 3500 T7</td>\n",
       "      <td>1.0</td>\n",
       "      <td>6000</td>\n",
       "      <td>1.7-6 kHz</td>\n",
       "      <td>150.0</td>\n",
       "      <td>NaN</td>\n",
       "      <td>980.0</td>\n",
       "      <td>980.0</td>\n",
       "      <td>384.0</td>\n",
       "      <td>325.0</td>\n",
       "      <td>NaN</td>\n",
       "    </tr>\n",
       "    <tr>\n",
       "      <th>3</th>\n",
       "      <td>iXblue</td>\n",
       "      <td>Echoes 3 500 T3</td>\n",
       "      <td>1.0</td>\n",
       "      <td>1500</td>\n",
       "      <td>1.7-6 kHz</td>\n",
       "      <td>150.0</td>\n",
       "      <td>NaN</td>\n",
       "      <td>680.0</td>\n",
       "      <td>680.0</td>\n",
       "      <td>384.0</td>\n",
       "      <td>160.0</td>\n",
       "      <td>no</td>\n",
       "    </tr>\n",
       "    <tr>\n",
       "      <th>4</th>\n",
       "      <td>iXblue</td>\n",
       "      <td>Echoes 3 500 T1</td>\n",
       "      <td>1.0</td>\n",
       "      <td>200</td>\n",
       "      <td>1.7-6 kHz</td>\n",
       "      <td>150.0</td>\n",
       "      <td>NaN</td>\n",
       "      <td>450.0</td>\n",
       "      <td>450.0</td>\n",
       "      <td>384.0</td>\n",
       "      <td>57.0</td>\n",
       "      <td>no</td>\n",
       "    </tr>\n",
       "    <tr>\n",
       "      <th>5</th>\n",
       "      <td>Kongsberg</td>\n",
       "      <td>SBP29 3</td>\n",
       "      <td>10.0</td>\n",
       "      <td>11000</td>\n",
       "      <td>2-9 kHz</td>\n",
       "      <td>200.0</td>\n",
       "      <td>NaN</td>\n",
       "      <td>7450.0</td>\n",
       "      <td>800.0</td>\n",
       "      <td>350.0</td>\n",
       "      <td>1150.0</td>\n",
       "      <td>no</td>\n",
       "    </tr>\n",
       "    <tr>\n",
       "      <th>6</th>\n",
       "      <td>Kongsberg</td>\n",
       "      <td>SBP29 6</td>\n",
       "      <td>10.0</td>\n",
       "      <td>11000</td>\n",
       "      <td>2-9 kHz</td>\n",
       "      <td>200.0</td>\n",
       "      <td>NaN</td>\n",
       "      <td>3834.0</td>\n",
       "      <td>800.0</td>\n",
       "      <td>350.0</td>\n",
       "      <td>575.0</td>\n",
       "      <td>no</td>\n",
       "    </tr>\n",
       "    <tr>\n",
       "      <th>7</th>\n",
       "      <td>Kongsberg</td>\n",
       "      <td>SBP29 12</td>\n",
       "      <td>10.0</td>\n",
       "      <td>11000</td>\n",
       "      <td>2-9 kHz</td>\n",
       "      <td>200.0</td>\n",
       "      <td>NaN</td>\n",
       "      <td>1970.0</td>\n",
       "      <td>800.0</td>\n",
       "      <td>261.0</td>\n",
       "      <td>288.0</td>\n",
       "      <td>no</td>\n",
       "    </tr>\n",
       "    <tr>\n",
       "      <th>8</th>\n",
       "      <td>Kongsberg</td>\n",
       "      <td>TOPAS PS18</td>\n",
       "      <td>20.0</td>\n",
       "      <td>11000</td>\n",
       "      <td>15-21 kHz</td>\n",
       "      <td>200.0</td>\n",
       "      <td>0.5-6.0 kHz</td>\n",
       "      <td>1142.0</td>\n",
       "      <td>1140.0</td>\n",
       "      <td>260.0</td>\n",
       "      <td>525.0</td>\n",
       "      <td>yes</td>\n",
       "    </tr>\n",
       "    <tr>\n",
       "      <th>9</th>\n",
       "      <td>Kongsberg</td>\n",
       "      <td>TOPAS PS40</td>\n",
       "      <td>4.0</td>\n",
       "      <td>2000</td>\n",
       "      <td>35-45 kHz</td>\n",
       "      <td>75.0</td>\n",
       "      <td>1-10 kHz</td>\n",
       "      <td>840.0</td>\n",
       "      <td>534.0</td>\n",
       "      <td>118.0</td>\n",
       "      <td>80.0</td>\n",
       "      <td>yes</td>\n",
       "    </tr>\n",
       "    <tr>\n",
       "      <th>10</th>\n",
       "      <td>Kongsberg</td>\n",
       "      <td>TOPAS PS120</td>\n",
       "      <td>2.0</td>\n",
       "      <td>400</td>\n",
       "      <td>70-100 kHz</td>\n",
       "      <td>50.0</td>\n",
       "      <td>2-30 kHz</td>\n",
       "      <td>324.0</td>\n",
       "      <td>422.0</td>\n",
       "      <td>68.0</td>\n",
       "      <td>30.0</td>\n",
       "      <td>yes</td>\n",
       "    </tr>\n",
       "    <tr>\n",
       "      <th>11</th>\n",
       "      <td>Teledyne</td>\n",
       "      <td>EchoTracE20</td>\n",
       "      <td>0.5</td>\n",
       "      <td>1000</td>\n",
       "      <td>10-250 kHz</td>\n",
       "      <td>NaN</td>\n",
       "      <td>10-250 kHz</td>\n",
       "      <td>221.0</td>\n",
       "      <td>300.0</td>\n",
       "      <td>83.0</td>\n",
       "      <td>5.7</td>\n",
       "      <td>yes</td>\n",
       "    </tr>\n",
       "  </tbody>\n",
       "</table>\n",
       "</div>"
      ],
      "text/plain": [
       "   manufacturer            Model  min_depth  max_depth  freq_range  \\\n",
       "0       Innomar          deep-36        5.0       6000   30-42 kHz   \n",
       "1       Innomar         standard        0.5        500  85-115 kHz   \n",
       "2        iXblue  Echoes3 3500 T7        1.0       6000   1.7-6 kHz   \n",
       "3        iXblue  Echoes 3 500 T3        1.0       1500   1.7-6 kHz   \n",
       "4        iXblue  Echoes 3 500 T1        1.0        200   1.7-6 kHz   \n",
       "5     Kongsberg          SBP29 3       10.0      11000     2-9 kHz   \n",
       "6     Kongsberg          SBP29 6       10.0      11000     2-9 kHz   \n",
       "7     Kongsberg         SBP29 12       10.0      11000     2-9 kHz   \n",
       "8     Kongsberg       TOPAS PS18       20.0      11000   15-21 kHz   \n",
       "9     Kongsberg       TOPAS PS40        4.0       2000   35-45 kHz   \n",
       "10    Kongsberg      TOPAS PS120        2.0        400  70-100 kHz   \n",
       "11     Teledyne      EchoTracE20        0.5       1000  10-250 kHz   \n",
       "\n",
       "    penetration_depth freq_range_sec  tx_length  tx_width  tx_height  \\\n",
       "0               150.0        2-7 kHz      900.0     900.0      300.0   \n",
       "1                50.0       4-15 kHz      260.0     520.0      340.0   \n",
       "2               150.0            NaN      980.0     980.0      384.0   \n",
       "3               150.0            NaN      680.0     680.0      384.0   \n",
       "4               150.0            NaN      450.0     450.0      384.0   \n",
       "5               200.0            NaN     7450.0     800.0      350.0   \n",
       "6               200.0            NaN     3834.0     800.0      350.0   \n",
       "7               200.0            NaN     1970.0     800.0      261.0   \n",
       "8               200.0    0.5-6.0 kHz     1142.0    1140.0      260.0   \n",
       "9                75.0       1-10 kHz      840.0     534.0      118.0   \n",
       "10               50.0       2-30 kHz      324.0     422.0       68.0   \n",
       "11                NaN     10-250 kHz      221.0     300.0       83.0   \n",
       "\n",
       "    tx_weight parametric  \n",
       "0       335.0      yes    \n",
       "1        30.0        yes  \n",
       "2       325.0        NaN  \n",
       "3       160.0         no  \n",
       "4        57.0         no  \n",
       "5      1150.0         no  \n",
       "6       575.0         no  \n",
       "7       288.0         no  \n",
       "8       525.0        yes  \n",
       "9        80.0        yes  \n",
       "10       30.0      yes    \n",
       "11        5.7        yes  "
      ]
     },
     "execution_count": 27,
     "metadata": {},
     "output_type": "execute_result"
    }
   ],
   "source": [
    "all_sbp[['manufacturer','Model','min_depth','max_depth','freq_range','penetration_depth','freq_range_sec','tx_length', 'tx_width','tx_height', 'tx_weight','parametric']]"
   ]
  },
  {
   "cell_type": "markdown",
   "metadata": {},
   "source": [
    "### With the input restrictions, the following SSS models are recommended: "
   ]
  },
  {
   "cell_type": "code",
   "execution_count": 28,
   "metadata": {},
   "outputs": [
    {
     "data": {
      "text/html": [
       "<div>\n",
       "<style scoped>\n",
       "    .dataframe tbody tr th:only-of-type {\n",
       "        vertical-align: middle;\n",
       "    }\n",
       "\n",
       "    .dataframe tbody tr th {\n",
       "        vertical-align: top;\n",
       "    }\n",
       "\n",
       "    .dataframe thead th {\n",
       "        text-align: right;\n",
       "    }\n",
       "</style>\n",
       "<table border=\"1\" class=\"dataframe\">\n",
       "  <thead>\n",
       "    <tr style=\"text-align: right;\">\n",
       "      <th></th>\n",
       "      <th>manufacturer</th>\n",
       "      <th>Model</th>\n",
       "      <th>min_depth</th>\n",
       "      <th>depth_rating</th>\n",
       "      <th>max_depth</th>\n",
       "      <th>freq_range</th>\n",
       "      <th>tx_length</th>\n",
       "      <th>tx_weight</th>\n",
       "    </tr>\n",
       "  </thead>\n",
       "  <tbody>\n",
       "  </tbody>\n",
       "</table>\n",
       "</div>"
      ],
      "text/plain": [
       "Empty DataFrame\n",
       "Columns: [manufacturer, Model, min_depth, depth_rating, max_depth, freq_range, tx_length, tx_weight]\n",
       "Index: []"
      ]
     },
     "execution_count": 28,
     "metadata": {},
     "output_type": "execute_result"
    }
   ],
   "source": [
    "all_sss[['manufacturer','Model','min_depth','depth_rating','max_depth','freq_range','tx_length','tx_weight']]"
   ]
  }
 ],
 "metadata": {
  "colab": {
   "collapsed_sections": [
    "xNZpmiIVgGyx",
    "TqNN9aXIncxf",
    "CaW81GZpfcyS",
    "nrNtpBLgpp8k"
   ],
   "name": "04112021_Auswahl hydrographischer Geräte.ipynb",
   "provenance": [],
   "toc_visible": true
  },
  "hide_input": false,
  "kernelspec": {
   "display_name": "Python 3",
   "language": "python",
   "name": "python3"
  },
  "language_info": {
   "codemirror_mode": {
    "name": "ipython",
    "version": 3
   },
   "file_extension": ".py",
   "mimetype": "text/x-python",
   "name": "python",
   "nbconvert_exporter": "python",
   "pygments_lexer": "ipython3",
   "version": "3.8.8"
  },
  "widgets": {
   "application/vnd.jupyter.widget-state+json": {
    "4210597a78f9422d8ed66687f77e70c2": {
     "model_module": "@jupyter-widgets/controls",
     "model_module_version": "1.5.0",
     "model_name": "FileUploadModel",
     "state": {
      "_counter": 2,
      "_dom_classes": [],
      "_model_module": "@jupyter-widgets/controls",
      "_model_module_version": "1.5.0",
      "_model_name": "FileUploadModel",
      "_view_count": null,
      "_view_module": "@jupyter-widgets/controls",
      "_view_module_version": "1.5.0",
      "_view_name": "FileUploadView",
      "accept": ".xlsx",
      "button_style": "",
      "data": [
       null
      ],
      "description": "Upload",
      "description_tooltip": null,
      "disabled": false,
      "error": "",
      "icon": "upload",
      "layout": "IPY_MODEL_ae385610f844466a9ff375d414915ae0",
      "metadata": [
       {
        "lastModified": 1628091071881,
        "name": "Sensors_DataExcel.xlsx",
        "size": 18655,
        "type": "application/vnd.openxmlformats-officedocument.spreadsheetml.sheet"
       }
      ],
      "multiple": false,
      "style": "IPY_MODEL_f67a3f71ab99433fa38d17bc1f428b4b"
     }
    },
    "ac284d13c4724bf8bf5150d99c6da0b7": {
     "model_module": "@jupyter-widgets/base",
     "model_module_version": "1.2.0",
     "model_name": "LayoutModel",
     "state": {
      "_model_module": "@jupyter-widgets/base",
      "_model_module_version": "1.2.0",
      "_model_name": "LayoutModel",
      "_view_count": null,
      "_view_module": "@jupyter-widgets/base",
      "_view_module_version": "1.2.0",
      "_view_name": "LayoutView",
      "align_content": null,
      "align_items": null,
      "align_self": null,
      "border": null,
      "bottom": null,
      "display": null,
      "flex": null,
      "flex_flow": null,
      "grid_area": null,
      "grid_auto_columns": null,
      "grid_auto_flow": null,
      "grid_auto_rows": null,
      "grid_column": null,
      "grid_gap": null,
      "grid_row": null,
      "grid_template_areas": null,
      "grid_template_columns": null,
      "grid_template_rows": null,
      "height": null,
      "justify_content": null,
      "justify_items": null,
      "left": null,
      "margin": null,
      "max_height": null,
      "max_width": null,
      "min_height": null,
      "min_width": null,
      "object_fit": null,
      "object_position": null,
      "order": null,
      "overflow": null,
      "overflow_x": null,
      "overflow_y": null,
      "padding": null,
      "right": null,
      "top": null,
      "visibility": null,
      "width": "1000px"
     }
    },
    "ae385610f844466a9ff375d414915ae0": {
     "model_module": "@jupyter-widgets/base",
     "model_module_version": "1.2.0",
     "model_name": "LayoutModel",
     "state": {
      "_model_module": "@jupyter-widgets/base",
      "_model_module_version": "1.2.0",
      "_model_name": "LayoutModel",
      "_view_count": null,
      "_view_module": "@jupyter-widgets/base",
      "_view_module_version": "1.2.0",
      "_view_name": "LayoutView",
      "align_content": null,
      "align_items": null,
      "align_self": null,
      "border": null,
      "bottom": null,
      "display": null,
      "flex": null,
      "flex_flow": null,
      "grid_area": null,
      "grid_auto_columns": null,
      "grid_auto_flow": null,
      "grid_auto_rows": null,
      "grid_column": null,
      "grid_gap": null,
      "grid_row": null,
      "grid_template_areas": null,
      "grid_template_columns": null,
      "grid_template_rows": null,
      "height": null,
      "justify_content": null,
      "justify_items": null,
      "left": null,
      "margin": null,
      "max_height": null,
      "max_width": null,
      "min_height": null,
      "min_width": null,
      "object_fit": null,
      "object_position": null,
      "order": null,
      "overflow": null,
      "overflow_x": null,
      "overflow_y": null,
      "padding": null,
      "right": null,
      "top": null,
      "visibility": null,
      "width": null
     }
    },
    "e8de3e8d23e941d9a57a911b0a89767a": {
     "model_module": "@jupyter-widgets/controls",
     "model_module_version": "1.5.0",
     "model_name": "IntRangeSliderModel",
     "state": {
      "_dom_classes": [],
      "_model_module": "@jupyter-widgets/controls",
      "_model_module_version": "1.5.0",
      "_model_name": "IntRangeSliderModel",
      "_view_count": null,
      "_view_module": "@jupyter-widgets/controls",
      "_view_module_version": "1.5.0",
      "_view_name": "IntRangeSliderView",
      "continuous_update": false,
      "description": "Survey Depths:",
      "description_tooltip": null,
      "disabled": false,
      "layout": "IPY_MODEL_ac284d13c4724bf8bf5150d99c6da0b7",
      "max": 6000,
      "min": 0,
      "orientation": "horizontal",
      "readout": true,
      "readout_format": "d",
      "step": 1000,
      "style": "IPY_MODEL_f768bf00f21746589a6177b9f5dde867",
      "value": [
       1000,
       6000
      ]
     }
    },
    "f67a3f71ab99433fa38d17bc1f428b4b": {
     "model_module": "@jupyter-widgets/controls",
     "model_module_version": "1.5.0",
     "model_name": "ButtonStyleModel",
     "state": {
      "_model_module": "@jupyter-widgets/controls",
      "_model_module_version": "1.5.0",
      "_model_name": "ButtonStyleModel",
      "_view_count": null,
      "_view_module": "@jupyter-widgets/base",
      "_view_module_version": "1.2.0",
      "_view_name": "StyleView",
      "button_color": null,
      "font_weight": ""
     }
    },
    "f768bf00f21746589a6177b9f5dde867": {
     "model_module": "@jupyter-widgets/controls",
     "model_module_version": "1.5.0",
     "model_name": "SliderStyleModel",
     "state": {
      "_model_module": "@jupyter-widgets/controls",
      "_model_module_version": "1.5.0",
      "_model_name": "SliderStyleModel",
      "_view_count": null,
      "_view_module": "@jupyter-widgets/base",
      "_view_module_version": "1.2.0",
      "_view_name": "StyleView",
      "description_width": "",
      "handle_color": null
     }
    }
   }
  }
 },
 "nbformat": 4,
 "nbformat_minor": 4
}
